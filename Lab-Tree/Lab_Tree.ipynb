{
 "cells": [
  {
   "cell_type": "markdown",
   "metadata": {},
   "source": [
    "# Tree Lab (10 pts)"
   ]
  },
  {
   "cell_type": "markdown",
   "metadata": {},
   "source": [
    "在本Lab中，你将会完成一个决策树，并在一个简单的数据集上进行验证。"
   ]
  },
  {
   "cell_type": "markdown",
   "metadata": {},
   "source": [
    "## 准备工作\n",
    "\n",
    "### 环境准备\n",
    "\n",
    "请确保完成以下依赖包的安装，并且通过下面代码来导入与验证。"
   ]
  },
  {
   "cell_type": "code",
   "execution_count": 49,
   "metadata": {},
   "outputs": [
    {
     "name": "stdout",
     "output_type": "stream",
     "text": [
      "The autoreload extension is already loaded. To reload it, use:\n",
      "  %reload_ext autoreload\n"
     ]
    }
   ],
   "source": [
    "import pandas as pd\n",
    "import numpy as np\n",
    "from autograder import *\n",
    "from utils import *\n",
    "from codes import *\n",
    "import random\n",
    "\n",
    "np.random.seed(0)\n",
    "random.seed(0)\n",
    "\n",
    "# reload modifications on imported modules\n",
    "%load_ext autoreload\n",
    "%autoreload 2"
   ]
  },
  {
   "cell_type": "markdown",
   "metadata": {},
   "source": [
    "### 数据集准备\n",
    "我们将使用以下数据集进行决策树的构建。该数据集包括7个特征，以及一个标签“是否适合读博”，这些特征描述了适合读博的各种条件，如love doing research,I absolutely want to be a college professor等。\n",
    "\n",
    "请运行下面的代码来加载数据集。\n",
    "\n",
    "（防侵权说明）参考https://zhuanlan.zhihu.com/p/372884253，数据集来源GPT4，但构造的决策树不一定与参考内容完全一致。"
   ]
  },
  {
   "cell_type": "code",
   "execution_count": 50,
   "metadata": {},
   "outputs": [],
   "source": [
    "# Load the datasets for training and testing\n",
    "train_data = pd.read_csv('train_phd_data.csv')\n",
    "test_data = pd.read_csv('test_phd_data.csv')"
   ]
  },
  {
   "cell_type": "markdown",
   "metadata": {},
   "source": [
    "## 决策树构建\n",
    "在这个部分，你将学习并完成决策树的构建。注意：不考虑剪枝，决策树构建停止条件是数据所有实例属于同一类或者特征不可再分（即每个特征值都一样）。\n",
    "\n",
    "我们采用**信息增益率**作为分类标准。\n",
    "\n",
    "请完成`codes.py`文件中的以下函数：\n",
    "\n",
    "1. **计算数据的信息熵 `getInfoEntropy()`；(3.33 pts)**\n",
    "2. **根据信息增益率找到最优特征 `find_best_feature()`；(3.33 pts)** \n",
    "\n",
    "你可能会用到`pandas`库函数，请参考 [pandas官方文档](https://pandas.pydata.org/docs/reference/)；我们在`utils.py`中提供了部分函数，你可能在完成`codes.py`中的函数时会用到，因此请确保阅读并理解。"
   ]
  },
  {
   "cell_type": "code",
   "execution_count": 51,
   "metadata": {},
   "outputs": [
    {
     "name": "stderr",
     "output_type": "stream",
     "text": [
      ".\n",
      "----------------------------------------------------------------------\n",
      "Ran 1 test in 0.002s\n",
      "\n",
      "OK\n",
      "/Users/houshuyang/Desktop/Machine Learning/MLLab2024/Lab-Tree/codes.py:76: FutureWarning: Series.__getitem__ treating keys as positions is deprecated. In a future version, integer keys will always be treated as labels (consistent with DataFrame behavior). To access a value by position, use `ser.iloc[pos]`\n",
      "  featureLength += len(series[j])\n",
      "/Users/houshuyang/Desktop/Machine Learning/MLLab2024/Lab-Tree/codes.py:81: FutureWarning: Series.__getitem__ treating keys as positions is deprecated. In a future version, integer keys will always be treated as labels (consistent with DataFrame behavior). To access a value by position, use `ser.iloc[pos]`\n",
      "  df = series[j]\n",
      "/Users/houshuyang/Desktop/Machine Learning/MLLab2024/Lab-Tree/codes.py:76: FutureWarning: Series.__getitem__ treating keys as positions is deprecated. In a future version, integer keys will always be treated as labels (consistent with DataFrame behavior). To access a value by position, use `ser.iloc[pos]`\n",
      "  featureLength += len(series[j])\n",
      "/Users/houshuyang/Desktop/Machine Learning/MLLab2024/Lab-Tree/codes.py:81: FutureWarning: Series.__getitem__ treating keys as positions is deprecated. In a future version, integer keys will always be treated as labels (consistent with DataFrame behavior). To access a value by position, use `ser.iloc[pos]`\n",
      "  df = series[j]\n",
      "./Users/houshuyang/Desktop/Machine Learning/MLLab2024/Lab-Tree/codes.py:76: FutureWarning: Series.__getitem__ treating keys as positions is deprecated. In a future version, integer keys will always be treated as labels (consistent with DataFrame behavior). To access a value by position, use `ser.iloc[pos]`\n",
      "  featureLength += len(series[j])\n",
      "/Users/houshuyang/Desktop/Machine Learning/MLLab2024/Lab-Tree/codes.py:81: FutureWarning: Series.__getitem__ treating keys as positions is deprecated. In a future version, integer keys will always be treated as labels (consistent with DataFrame behavior). To access a value by position, use `ser.iloc[pos]`\n",
      "  df = series[j]\n",
      "/Users/houshuyang/Desktop/Machine Learning/MLLab2024/Lab-Tree/codes.py:76: FutureWarning: Series.__getitem__ treating keys as positions is deprecated. In a future version, integer keys will always be treated as labels (consistent with DataFrame behavior). To access a value by position, use `ser.iloc[pos]`\n",
      "  featureLength += len(series[j])\n",
      "/Users/houshuyang/Desktop/Machine Learning/MLLab2024/Lab-Tree/codes.py:81: FutureWarning: Series.__getitem__ treating keys as positions is deprecated. In a future version, integer keys will always be treated as labels (consistent with DataFrame behavior). To access a value by position, use `ser.iloc[pos]`\n",
      "  df = series[j]\n",
      "/Users/houshuyang/Desktop/Machine Learning/MLLab2024/Lab-Tree/codes.py:76: FutureWarning: Series.__getitem__ treating keys as positions is deprecated. In a future version, integer keys will always be treated as labels (consistent with DataFrame behavior). To access a value by position, use `ser.iloc[pos]`\n",
      "  featureLength += len(series[j])\n",
      "/Users/houshuyang/Desktop/Machine Learning/MLLab2024/Lab-Tree/codes.py:81: FutureWarning: Series.__getitem__ treating keys as positions is deprecated. In a future version, integer keys will always be treated as labels (consistent with DataFrame behavior). To access a value by position, use `ser.iloc[pos]`\n",
      "  df = series[j]\n",
      "/Users/houshuyang/Desktop/Machine Learning/MLLab2024/Lab-Tree/codes.py:76: FutureWarning: Series.__getitem__ treating keys as positions is deprecated. In a future version, integer keys will always be treated as labels (consistent with DataFrame behavior). To access a value by position, use `ser.iloc[pos]`\n",
      "  featureLength += len(series[j])\n",
      "/Users/houshuyang/Desktop/Machine Learning/MLLab2024/Lab-Tree/codes.py:81: FutureWarning: Series.__getitem__ treating keys as positions is deprecated. In a future version, integer keys will always be treated as labels (consistent with DataFrame behavior). To access a value by position, use `ser.iloc[pos]`\n",
      "  df = series[j]\n",
      "./Users/houshuyang/Desktop/Machine Learning/MLLab2024/Lab-Tree/codes.py:76: FutureWarning: Series.__getitem__ treating keys as positions is deprecated. In a future version, integer keys will always be treated as labels (consistent with DataFrame behavior). To access a value by position, use `ser.iloc[pos]`\n",
      "  featureLength += len(series[j])\n",
      "/Users/houshuyang/Desktop/Machine Learning/MLLab2024/Lab-Tree/codes.py:81: FutureWarning: Series.__getitem__ treating keys as positions is deprecated. In a future version, integer keys will always be treated as labels (consistent with DataFrame behavior). To access a value by position, use `ser.iloc[pos]`\n",
      "  df = series[j]\n",
      "/Users/houshuyang/Desktop/Machine Learning/MLLab2024/Lab-Tree/codes.py:76: FutureWarning: Series.__getitem__ treating keys as positions is deprecated. In a future version, integer keys will always be treated as labels (consistent with DataFrame behavior). To access a value by position, use `ser.iloc[pos]`\n",
      "  featureLength += len(series[j])\n",
      "/Users/houshuyang/Desktop/Machine Learning/MLLab2024/Lab-Tree/codes.py:81: FutureWarning: Series.__getitem__ treating keys as positions is deprecated. In a future version, integer keys will always be treated as labels (consistent with DataFrame behavior). To access a value by position, use `ser.iloc[pos]`\n",
      "  df = series[j]\n",
      "/Users/houshuyang/Desktop/Machine Learning/MLLab2024/Lab-Tree/codes.py:76: FutureWarning: Series.__getitem__ treating keys as positions is deprecated. In a future version, integer keys will always be treated as labels (consistent with DataFrame behavior). To access a value by position, use `ser.iloc[pos]`\n",
      "  featureLength += len(series[j])\n",
      "/Users/houshuyang/Desktop/Machine Learning/MLLab2024/Lab-Tree/codes.py:81: FutureWarning: Series.__getitem__ treating keys as positions is deprecated. In a future version, integer keys will always be treated as labels (consistent with DataFrame behavior). To access a value by position, use `ser.iloc[pos]`\n",
      "  df = series[j]\n",
      "/Users/houshuyang/Desktop/Machine Learning/MLLab2024/Lab-Tree/codes.py:76: FutureWarning: Series.__getitem__ treating keys as positions is deprecated. In a future version, integer keys will always be treated as labels (consistent with DataFrame behavior). To access a value by position, use `ser.iloc[pos]`\n",
      "  featureLength += len(series[j])\n",
      "/Users/houshuyang/Desktop/Machine Learning/MLLab2024/Lab-Tree/codes.py:81: FutureWarning: Series.__getitem__ treating keys as positions is deprecated. In a future version, integer keys will always be treated as labels (consistent with DataFrame behavior). To access a value by position, use `ser.iloc[pos]`\n",
      "  df = series[j]\n",
      ".\n",
      "----------------------------------------------------------------------\n",
      "Ran 3 tests in 0.017s\n",
      "\n",
      "OK\n"
     ]
    },
    {
     "name": "stdout",
     "output_type": "stream",
     "text": [
      "Final Score of Info Entropy: 3.3333333/3.33\n",
      "Final Score of Find Best Feature: 3.3333333/3.33\n"
     ]
    }
   ],
   "source": [
    "run_get_info_entropy_tests()\n",
    "run_find_best_feature_tests()"
   ]
  },
  {
   "cell_type": "markdown",
   "metadata": {},
   "source": [
    "接下来，请你利用刚刚完成的函数，进一步完成`codes.py`文件中的以下函数：\n",
    "\n",
    "3. **构建树`create_Tree()`；(3.33 pts)**\n",
    "\n",
    "完成后，你可以运行如下可视化代码，在`decision_tree.png`中，直观查看你所构建的树。"
   ]
  },
  {
   "cell_type": "code",
   "execution_count": 52,
   "metadata": {},
   "outputs": [
    {
     "name": "stderr",
     "output_type": "stream",
     "text": [
      "/Users/houshuyang/Desktop/Machine Learning/MLLab2024/Lab-Tree/codes.py:76: FutureWarning: Series.__getitem__ treating keys as positions is deprecated. In a future version, integer keys will always be treated as labels (consistent with DataFrame behavior). To access a value by position, use `ser.iloc[pos]`\n",
      "  featureLength += len(series[j])\n",
      "/Users/houshuyang/Desktop/Machine Learning/MLLab2024/Lab-Tree/codes.py:81: FutureWarning: Series.__getitem__ treating keys as positions is deprecated. In a future version, integer keys will always be treated as labels (consistent with DataFrame behavior). To access a value by position, use `ser.iloc[pos]`\n",
      "  df = series[j]\n",
      "/Users/houshuyang/Desktop/Machine Learning/MLLab2024/Lab-Tree/codes.py:76: FutureWarning: Series.__getitem__ treating keys as positions is deprecated. In a future version, integer keys will always be treated as labels (consistent with DataFrame behavior). To access a value by position, use `ser.iloc[pos]`\n",
      "  featureLength += len(series[j])\n",
      "/Users/houshuyang/Desktop/Machine Learning/MLLab2024/Lab-Tree/codes.py:81: FutureWarning: Series.__getitem__ treating keys as positions is deprecated. In a future version, integer keys will always be treated as labels (consistent with DataFrame behavior). To access a value by position, use `ser.iloc[pos]`\n",
      "  df = series[j]\n",
      "/Users/houshuyang/Desktop/Machine Learning/MLLab2024/Lab-Tree/codes.py:76: FutureWarning: Series.__getitem__ treating keys as positions is deprecated. In a future version, integer keys will always be treated as labels (consistent with DataFrame behavior). To access a value by position, use `ser.iloc[pos]`\n",
      "  featureLength += len(series[j])\n",
      "/Users/houshuyang/Desktop/Machine Learning/MLLab2024/Lab-Tree/codes.py:81: FutureWarning: Series.__getitem__ treating keys as positions is deprecated. In a future version, integer keys will always be treated as labels (consistent with DataFrame behavior). To access a value by position, use `ser.iloc[pos]`\n",
      "  df = series[j]\n",
      "/Users/houshuyang/Desktop/Machine Learning/MLLab2024/Lab-Tree/codes.py:76: FutureWarning: Series.__getitem__ treating keys as positions is deprecated. In a future version, integer keys will always be treated as labels (consistent with DataFrame behavior). To access a value by position, use `ser.iloc[pos]`\n",
      "  featureLength += len(series[j])\n",
      "/Users/houshuyang/Desktop/Machine Learning/MLLab2024/Lab-Tree/codes.py:81: FutureWarning: Series.__getitem__ treating keys as positions is deprecated. In a future version, integer keys will always be treated as labels (consistent with DataFrame behavior). To access a value by position, use `ser.iloc[pos]`\n",
      "  df = series[j]\n",
      "/Users/houshuyang/Desktop/Machine Learning/MLLab2024/Lab-Tree/codes.py:76: FutureWarning: Series.__getitem__ treating keys as positions is deprecated. In a future version, integer keys will always be treated as labels (consistent with DataFrame behavior). To access a value by position, use `ser.iloc[pos]`\n",
      "  featureLength += len(series[j])\n",
      "/Users/houshuyang/Desktop/Machine Learning/MLLab2024/Lab-Tree/codes.py:81: FutureWarning: Series.__getitem__ treating keys as positions is deprecated. In a future version, integer keys will always be treated as labels (consistent with DataFrame behavior). To access a value by position, use `ser.iloc[pos]`\n",
      "  df = series[j]\n",
      "/Users/houshuyang/Desktop/Machine Learning/MLLab2024/Lab-Tree/codes.py:76: FutureWarning: Series.__getitem__ treating keys as positions is deprecated. In a future version, integer keys will always be treated as labels (consistent with DataFrame behavior). To access a value by position, use `ser.iloc[pos]`\n",
      "  featureLength += len(series[j])\n",
      "/Users/houshuyang/Desktop/Machine Learning/MLLab2024/Lab-Tree/codes.py:81: FutureWarning: Series.__getitem__ treating keys as positions is deprecated. In a future version, integer keys will always be treated as labels (consistent with DataFrame behavior). To access a value by position, use `ser.iloc[pos]`\n",
      "  df = series[j]\n",
      "/Users/houshuyang/Desktop/Machine Learning/MLLab2024/Lab-Tree/codes.py:76: FutureWarning: Series.__getitem__ treating keys as positions is deprecated. In a future version, integer keys will always be treated as labels (consistent with DataFrame behavior). To access a value by position, use `ser.iloc[pos]`\n",
      "  featureLength += len(series[j])\n",
      "/Users/houshuyang/Desktop/Machine Learning/MLLab2024/Lab-Tree/codes.py:81: FutureWarning: Series.__getitem__ treating keys as positions is deprecated. In a future version, integer keys will always be treated as labels (consistent with DataFrame behavior). To access a value by position, use `ser.iloc[pos]`\n",
      "  df = series[j]\n",
      "/Users/houshuyang/Desktop/Machine Learning/MLLab2024/Lab-Tree/codes.py:76: FutureWarning: Series.__getitem__ treating keys as positions is deprecated. In a future version, integer keys will always be treated as labels (consistent with DataFrame behavior). To access a value by position, use `ser.iloc[pos]`\n",
      "  featureLength += len(series[j])\n",
      "/Users/houshuyang/Desktop/Machine Learning/MLLab2024/Lab-Tree/codes.py:81: FutureWarning: Series.__getitem__ treating keys as positions is deprecated. In a future version, integer keys will always be treated as labels (consistent with DataFrame behavior). To access a value by position, use `ser.iloc[pos]`\n",
      "  df = series[j]\n",
      "/Users/houshuyang/Desktop/Machine Learning/MLLab2024/Lab-Tree/codes.py:76: FutureWarning: Series.__getitem__ treating keys as positions is deprecated. In a future version, integer keys will always be treated as labels (consistent with DataFrame behavior). To access a value by position, use `ser.iloc[pos]`\n",
      "  featureLength += len(series[j])\n",
      "/Users/houshuyang/Desktop/Machine Learning/MLLab2024/Lab-Tree/codes.py:81: FutureWarning: Series.__getitem__ treating keys as positions is deprecated. In a future version, integer keys will always be treated as labels (consistent with DataFrame behavior). To access a value by position, use `ser.iloc[pos]`\n",
      "  df = series[j]\n",
      "/Users/houshuyang/Desktop/Machine Learning/MLLab2024/Lab-Tree/codes.py:76: FutureWarning: Series.__getitem__ treating keys as positions is deprecated. In a future version, integer keys will always be treated as labels (consistent with DataFrame behavior). To access a value by position, use `ser.iloc[pos]`\n",
      "  featureLength += len(series[j])\n",
      "/Users/houshuyang/Desktop/Machine Learning/MLLab2024/Lab-Tree/codes.py:81: FutureWarning: Series.__getitem__ treating keys as positions is deprecated. In a future version, integer keys will always be treated as labels (consistent with DataFrame behavior). To access a value by position, use `ser.iloc[pos]`\n",
      "  df = series[j]\n",
      "/Users/houshuyang/Desktop/Machine Learning/MLLab2024/Lab-Tree/codes.py:76: FutureWarning: Series.__getitem__ treating keys as positions is deprecated. In a future version, integer keys will always be treated as labels (consistent with DataFrame behavior). To access a value by position, use `ser.iloc[pos]`\n",
      "  featureLength += len(series[j])\n",
      "/Users/houshuyang/Desktop/Machine Learning/MLLab2024/Lab-Tree/codes.py:81: FutureWarning: Series.__getitem__ treating keys as positions is deprecated. In a future version, integer keys will always be treated as labels (consistent with DataFrame behavior). To access a value by position, use `ser.iloc[pos]`\n",
      "  df = series[j]\n",
      "/Users/houshuyang/Desktop/Machine Learning/MLLab2024/Lab-Tree/codes.py:76: FutureWarning: Series.__getitem__ treating keys as positions is deprecated. In a future version, integer keys will always be treated as labels (consistent with DataFrame behavior). To access a value by position, use `ser.iloc[pos]`\n",
      "  featureLength += len(series[j])\n",
      "/Users/houshuyang/Desktop/Machine Learning/MLLab2024/Lab-Tree/codes.py:81: FutureWarning: Series.__getitem__ treating keys as positions is deprecated. In a future version, integer keys will always be treated as labels (consistent with DataFrame behavior). To access a value by position, use `ser.iloc[pos]`\n",
      "  df = series[j]\n",
      "/Users/houshuyang/Desktop/Machine Learning/MLLab2024/Lab-Tree/codes.py:76: FutureWarning: Series.__getitem__ treating keys as positions is deprecated. In a future version, integer keys will always be treated as labels (consistent with DataFrame behavior). To access a value by position, use `ser.iloc[pos]`\n",
      "  featureLength += len(series[j])\n",
      "/Users/houshuyang/Desktop/Machine Learning/MLLab2024/Lab-Tree/codes.py:81: FutureWarning: Series.__getitem__ treating keys as positions is deprecated. In a future version, integer keys will always be treated as labels (consistent with DataFrame behavior). To access a value by position, use `ser.iloc[pos]`\n",
      "  df = series[j]\n",
      "/Users/houshuyang/Desktop/Machine Learning/MLLab2024/Lab-Tree/codes.py:76: FutureWarning: Series.__getitem__ treating keys as positions is deprecated. In a future version, integer keys will always be treated as labels (consistent with DataFrame behavior). To access a value by position, use `ser.iloc[pos]`\n",
      "  featureLength += len(series[j])\n",
      "/Users/houshuyang/Desktop/Machine Learning/MLLab2024/Lab-Tree/codes.py:81: FutureWarning: Series.__getitem__ treating keys as positions is deprecated. In a future version, integer keys will always be treated as labels (consistent with DataFrame behavior). To access a value by position, use `ser.iloc[pos]`\n",
      "  df = series[j]\n",
      "/Users/houshuyang/Desktop/Machine Learning/MLLab2024/Lab-Tree/codes.py:76: FutureWarning: Series.__getitem__ treating keys as positions is deprecated. In a future version, integer keys will always be treated as labels (consistent with DataFrame behavior). To access a value by position, use `ser.iloc[pos]`\n",
      "  featureLength += len(series[j])\n",
      "/Users/houshuyang/Desktop/Machine Learning/MLLab2024/Lab-Tree/codes.py:81: FutureWarning: Series.__getitem__ treating keys as positions is deprecated. In a future version, integer keys will always be treated as labels (consistent with DataFrame behavior). To access a value by position, use `ser.iloc[pos]`\n",
      "  df = series[j]\n",
      "/Users/houshuyang/Desktop/Machine Learning/MLLab2024/Lab-Tree/codes.py:76: FutureWarning: Series.__getitem__ treating keys as positions is deprecated. In a future version, integer keys will always be treated as labels (consistent with DataFrame behavior). To access a value by position, use `ser.iloc[pos]`\n",
      "  featureLength += len(series[j])\n",
      "/Users/houshuyang/Desktop/Machine Learning/MLLab2024/Lab-Tree/codes.py:81: FutureWarning: Series.__getitem__ treating keys as positions is deprecated. In a future version, integer keys will always be treated as labels (consistent with DataFrame behavior). To access a value by position, use `ser.iloc[pos]`\n",
      "  df = series[j]\n",
      "/Users/houshuyang/Desktop/Machine Learning/MLLab2024/Lab-Tree/codes.py:76: FutureWarning: Series.__getitem__ treating keys as positions is deprecated. In a future version, integer keys will always be treated as labels (consistent with DataFrame behavior). To access a value by position, use `ser.iloc[pos]`\n",
      "  featureLength += len(series[j])\n",
      "/Users/houshuyang/Desktop/Machine Learning/MLLab2024/Lab-Tree/codes.py:81: FutureWarning: Series.__getitem__ treating keys as positions is deprecated. In a future version, integer keys will always be treated as labels (consistent with DataFrame behavior). To access a value by position, use `ser.iloc[pos]`\n",
      "  df = series[j]\n",
      "/Users/houshuyang/Desktop/Machine Learning/MLLab2024/Lab-Tree/codes.py:76: FutureWarning: Series.__getitem__ treating keys as positions is deprecated. In a future version, integer keys will always be treated as labels (consistent with DataFrame behavior). To access a value by position, use `ser.iloc[pos]`\n",
      "  featureLength += len(series[j])\n",
      "/Users/houshuyang/Desktop/Machine Learning/MLLab2024/Lab-Tree/codes.py:81: FutureWarning: Series.__getitem__ treating keys as positions is deprecated. In a future version, integer keys will always be treated as labels (consistent with DataFrame behavior). To access a value by position, use `ser.iloc[pos]`\n",
      "  df = series[j]\n",
      "/Users/houshuyang/Desktop/Machine Learning/MLLab2024/Lab-Tree/codes.py:76: FutureWarning: Series.__getitem__ treating keys as positions is deprecated. In a future version, integer keys will always be treated as labels (consistent with DataFrame behavior). To access a value by position, use `ser.iloc[pos]`\n",
      "  featureLength += len(series[j])\n",
      "/Users/houshuyang/Desktop/Machine Learning/MLLab2024/Lab-Tree/codes.py:81: FutureWarning: Series.__getitem__ treating keys as positions is deprecated. In a future version, integer keys will always be treated as labels (consistent with DataFrame behavior). To access a value by position, use `ser.iloc[pos]`\n",
      "  df = series[j]\n",
      "/Users/houshuyang/Desktop/Machine Learning/MLLab2024/Lab-Tree/codes.py:76: FutureWarning: Series.__getitem__ treating keys as positions is deprecated. In a future version, integer keys will always be treated as labels (consistent with DataFrame behavior). To access a value by position, use `ser.iloc[pos]`\n",
      "  featureLength += len(series[j])\n",
      "/Users/houshuyang/Desktop/Machine Learning/MLLab2024/Lab-Tree/codes.py:81: FutureWarning: Series.__getitem__ treating keys as positions is deprecated. In a future version, integer keys will always be treated as labels (consistent with DataFrame behavior). To access a value by position, use `ser.iloc[pos]`\n",
      "  df = series[j]\n",
      "/Users/houshuyang/Desktop/Machine Learning/MLLab2024/Lab-Tree/codes.py:76: FutureWarning: Series.__getitem__ treating keys as positions is deprecated. In a future version, integer keys will always be treated as labels (consistent with DataFrame behavior). To access a value by position, use `ser.iloc[pos]`\n",
      "  featureLength += len(series[j])\n",
      "/Users/houshuyang/Desktop/Machine Learning/MLLab2024/Lab-Tree/codes.py:81: FutureWarning: Series.__getitem__ treating keys as positions is deprecated. In a future version, integer keys will always be treated as labels (consistent with DataFrame behavior). To access a value by position, use `ser.iloc[pos]`\n",
      "  df = series[j]\n",
      "/Users/houshuyang/Desktop/Machine Learning/MLLab2024/Lab-Tree/codes.py:76: FutureWarning: Series.__getitem__ treating keys as positions is deprecated. In a future version, integer keys will always be treated as labels (consistent with DataFrame behavior). To access a value by position, use `ser.iloc[pos]`\n",
      "  featureLength += len(series[j])\n",
      "/Users/houshuyang/Desktop/Machine Learning/MLLab2024/Lab-Tree/codes.py:81: FutureWarning: Series.__getitem__ treating keys as positions is deprecated. In a future version, integer keys will always be treated as labels (consistent with DataFrame behavior). To access a value by position, use `ser.iloc[pos]`\n",
      "  df = series[j]\n",
      "/Users/houshuyang/Desktop/Machine Learning/MLLab2024/Lab-Tree/codes.py:76: FutureWarning: Series.__getitem__ treating keys as positions is deprecated. In a future version, integer keys will always be treated as labels (consistent with DataFrame behavior). To access a value by position, use `ser.iloc[pos]`\n",
      "  featureLength += len(series[j])\n",
      "/Users/houshuyang/Desktop/Machine Learning/MLLab2024/Lab-Tree/codes.py:81: FutureWarning: Series.__getitem__ treating keys as positions is deprecated. In a future version, integer keys will always be treated as labels (consistent with DataFrame behavior). To access a value by position, use `ser.iloc[pos]`\n",
      "  df = series[j]\n",
      "/Users/houshuyang/Desktop/Machine Learning/MLLab2024/Lab-Tree/codes.py:76: FutureWarning: Series.__getitem__ treating keys as positions is deprecated. In a future version, integer keys will always be treated as labels (consistent with DataFrame behavior). To access a value by position, use `ser.iloc[pos]`\n",
      "  featureLength += len(series[j])\n",
      "/Users/houshuyang/Desktop/Machine Learning/MLLab2024/Lab-Tree/codes.py:81: FutureWarning: Series.__getitem__ treating keys as positions is deprecated. In a future version, integer keys will always be treated as labels (consistent with DataFrame behavior). To access a value by position, use `ser.iloc[pos]`\n",
      "  df = series[j]\n",
      "/Users/houshuyang/Desktop/Machine Learning/MLLab2024/Lab-Tree/codes.py:76: FutureWarning: Series.__getitem__ treating keys as positions is deprecated. In a future version, integer keys will always be treated as labels (consistent with DataFrame behavior). To access a value by position, use `ser.iloc[pos]`\n",
      "  featureLength += len(series[j])\n",
      "/Users/houshuyang/Desktop/Machine Learning/MLLab2024/Lab-Tree/codes.py:81: FutureWarning: Series.__getitem__ treating keys as positions is deprecated. In a future version, integer keys will always be treated as labels (consistent with DataFrame behavior). To access a value by position, use `ser.iloc[pos]`\n",
      "  df = series[j]\n",
      "/Users/houshuyang/Desktop/Machine Learning/MLLab2024/Lab-Tree/codes.py:76: FutureWarning: Series.__getitem__ treating keys as positions is deprecated. In a future version, integer keys will always be treated as labels (consistent with DataFrame behavior). To access a value by position, use `ser.iloc[pos]`\n",
      "  featureLength += len(series[j])\n",
      "/Users/houshuyang/Desktop/Machine Learning/MLLab2024/Lab-Tree/codes.py:81: FutureWarning: Series.__getitem__ treating keys as positions is deprecated. In a future version, integer keys will always be treated as labels (consistent with DataFrame behavior). To access a value by position, use `ser.iloc[pos]`\n",
      "  df = series[j]\n",
      "/Users/houshuyang/Desktop/Machine Learning/MLLab2024/Lab-Tree/codes.py:76: FutureWarning: Series.__getitem__ treating keys as positions is deprecated. In a future version, integer keys will always be treated as labels (consistent with DataFrame behavior). To access a value by position, use `ser.iloc[pos]`\n",
      "  featureLength += len(series[j])\n",
      "/Users/houshuyang/Desktop/Machine Learning/MLLab2024/Lab-Tree/codes.py:81: FutureWarning: Series.__getitem__ treating keys as positions is deprecated. In a future version, integer keys will always be treated as labels (consistent with DataFrame behavior). To access a value by position, use `ser.iloc[pos]`\n",
      "  df = series[j]\n",
      "/Users/houshuyang/Desktop/Machine Learning/MLLab2024/Lab-Tree/codes.py:76: FutureWarning: Series.__getitem__ treating keys as positions is deprecated. In a future version, integer keys will always be treated as labels (consistent with DataFrame behavior). To access a value by position, use `ser.iloc[pos]`\n",
      "  featureLength += len(series[j])\n",
      "/Users/houshuyang/Desktop/Machine Learning/MLLab2024/Lab-Tree/codes.py:81: FutureWarning: Series.__getitem__ treating keys as positions is deprecated. In a future version, integer keys will always be treated as labels (consistent with DataFrame behavior). To access a value by position, use `ser.iloc[pos]`\n",
      "  df = series[j]\n",
      "/Users/houshuyang/Desktop/Machine Learning/MLLab2024/Lab-Tree/codes.py:76: FutureWarning: Series.__getitem__ treating keys as positions is deprecated. In a future version, integer keys will always be treated as labels (consistent with DataFrame behavior). To access a value by position, use `ser.iloc[pos]`\n",
      "  featureLength += len(series[j])\n",
      "/Users/houshuyang/Desktop/Machine Learning/MLLab2024/Lab-Tree/codes.py:81: FutureWarning: Series.__getitem__ treating keys as positions is deprecated. In a future version, integer keys will always be treated as labels (consistent with DataFrame behavior). To access a value by position, use `ser.iloc[pos]`\n",
      "  df = series[j]\n",
      "/Users/houshuyang/Desktop/Machine Learning/MLLab2024/Lab-Tree/codes.py:76: FutureWarning: Series.__getitem__ treating keys as positions is deprecated. In a future version, integer keys will always be treated as labels (consistent with DataFrame behavior). To access a value by position, use `ser.iloc[pos]`\n",
      "  featureLength += len(series[j])\n",
      "/Users/houshuyang/Desktop/Machine Learning/MLLab2024/Lab-Tree/codes.py:81: FutureWarning: Series.__getitem__ treating keys as positions is deprecated. In a future version, integer keys will always be treated as labels (consistent with DataFrame behavior). To access a value by position, use `ser.iloc[pos]`\n",
      "  df = series[j]\n",
      "/Users/houshuyang/Desktop/Machine Learning/MLLab2024/Lab-Tree/codes.py:76: FutureWarning: Series.__getitem__ treating keys as positions is deprecated. In a future version, integer keys will always be treated as labels (consistent with DataFrame behavior). To access a value by position, use `ser.iloc[pos]`\n",
      "  featureLength += len(series[j])\n",
      "/Users/houshuyang/Desktop/Machine Learning/MLLab2024/Lab-Tree/codes.py:81: FutureWarning: Series.__getitem__ treating keys as positions is deprecated. In a future version, integer keys will always be treated as labels (consistent with DataFrame behavior). To access a value by position, use `ser.iloc[pos]`\n",
      "  df = series[j]\n",
      "/Users/houshuyang/Desktop/Machine Learning/MLLab2024/Lab-Tree/codes.py:76: FutureWarning: Series.__getitem__ treating keys as positions is deprecated. In a future version, integer keys will always be treated as labels (consistent with DataFrame behavior). To access a value by position, use `ser.iloc[pos]`\n",
      "  featureLength += len(series[j])\n",
      "/Users/houshuyang/Desktop/Machine Learning/MLLab2024/Lab-Tree/codes.py:81: FutureWarning: Series.__getitem__ treating keys as positions is deprecated. In a future version, integer keys will always be treated as labels (consistent with DataFrame behavior). To access a value by position, use `ser.iloc[pos]`\n",
      "  df = series[j]\n",
      "/Users/houshuyang/Desktop/Machine Learning/MLLab2024/Lab-Tree/codes.py:76: FutureWarning: Series.__getitem__ treating keys as positions is deprecated. In a future version, integer keys will always be treated as labels (consistent with DataFrame behavior). To access a value by position, use `ser.iloc[pos]`\n",
      "  featureLength += len(series[j])\n",
      "/Users/houshuyang/Desktop/Machine Learning/MLLab2024/Lab-Tree/codes.py:81: FutureWarning: Series.__getitem__ treating keys as positions is deprecated. In a future version, integer keys will always be treated as labels (consistent with DataFrame behavior). To access a value by position, use `ser.iloc[pos]`\n",
      "  df = series[j]\n",
      "/Users/houshuyang/Desktop/Machine Learning/MLLab2024/Lab-Tree/codes.py:76: FutureWarning: Series.__getitem__ treating keys as positions is deprecated. In a future version, integer keys will always be treated as labels (consistent with DataFrame behavior). To access a value by position, use `ser.iloc[pos]`\n",
      "  featureLength += len(series[j])\n",
      "/Users/houshuyang/Desktop/Machine Learning/MLLab2024/Lab-Tree/codes.py:81: FutureWarning: Series.__getitem__ treating keys as positions is deprecated. In a future version, integer keys will always be treated as labels (consistent with DataFrame behavior). To access a value by position, use `ser.iloc[pos]`\n",
      "  df = series[j]\n",
      "/Users/houshuyang/Desktop/Machine Learning/MLLab2024/Lab-Tree/codes.py:76: FutureWarning: Series.__getitem__ treating keys as positions is deprecated. In a future version, integer keys will always be treated as labels (consistent with DataFrame behavior). To access a value by position, use `ser.iloc[pos]`\n",
      "  featureLength += len(series[j])\n",
      "/Users/houshuyang/Desktop/Machine Learning/MLLab2024/Lab-Tree/codes.py:81: FutureWarning: Series.__getitem__ treating keys as positions is deprecated. In a future version, integer keys will always be treated as labels (consistent with DataFrame behavior). To access a value by position, use `ser.iloc[pos]`\n",
      "  df = series[j]\n",
      "/Users/houshuyang/Desktop/Machine Learning/MLLab2024/Lab-Tree/codes.py:76: FutureWarning: Series.__getitem__ treating keys as positions is deprecated. In a future version, integer keys will always be treated as labels (consistent with DataFrame behavior). To access a value by position, use `ser.iloc[pos]`\n",
      "  featureLength += len(series[j])\n",
      "/Users/houshuyang/Desktop/Machine Learning/MLLab2024/Lab-Tree/codes.py:81: FutureWarning: Series.__getitem__ treating keys as positions is deprecated. In a future version, integer keys will always be treated as labels (consistent with DataFrame behavior). To access a value by position, use `ser.iloc[pos]`\n",
      "  df = series[j]\n",
      "/Users/houshuyang/Desktop/Machine Learning/MLLab2024/Lab-Tree/codes.py:76: FutureWarning: Series.__getitem__ treating keys as positions is deprecated. In a future version, integer keys will always be treated as labels (consistent with DataFrame behavior). To access a value by position, use `ser.iloc[pos]`\n",
      "  featureLength += len(series[j])\n",
      "/Users/houshuyang/Desktop/Machine Learning/MLLab2024/Lab-Tree/codes.py:81: FutureWarning: Series.__getitem__ treating keys as positions is deprecated. In a future version, integer keys will always be treated as labels (consistent with DataFrame behavior). To access a value by position, use `ser.iloc[pos]`\n",
      "  df = series[j]\n"
     ]
    },
    {
     "data": {
      "text/plain": [
       "'decision_tree.png'"
      ]
     },
     "execution_count": 52,
     "metadata": {},
     "output_type": "execute_result"
    }
   ],
   "source": [
    "Tree = create_Tree(train_data)\n",
    "\n",
    "# plot decision tree\n",
    "tree_graph = Digraph(comment='Decision Tree')\n",
    "plot_tree(Tree, 'Root', 0, tree_graph)\n",
    "tree_graph.render('decision_tree', format='png', cleanup=True)"
   ]
  },
  {
   "cell_type": "markdown",
   "metadata": {},
   "source": [
    "为了拿到create_Tree的全部分数，你需要保证该树在训练集上的分类精度`>0.9`，在测试集上的分类精度`>0.8`。"
   ]
  },
  {
   "cell_type": "code",
   "execution_count": 53,
   "metadata": {},
   "outputs": [
    {
     "name": "stdout",
     "output_type": "stream",
     "text": [
      "Train acc: 1.0\n",
      "Test acc: 0.8571428571428571\n"
     ]
    },
    {
     "name": "stderr",
     "output_type": "stream",
     "text": [
      "/Users/houshuyang/Desktop/Machine Learning/MLLab2024/Lab-Tree/utils.py:126: FutureWarning: Series.__getitem__ treating keys as positions is deprecated. In a future version, integer keys will always be treated as labels (consistent with DataFrame behavior). To access a value by position, use `ser.iloc[pos]`\n",
      "  if classify(tree, sample) == sample[-1]:\n"
     ]
    }
   ],
   "source": [
    "acc_train = test(train_data, Tree)\n",
    "acc_test = test(test_data, Tree)\n",
    "\n",
    "print(\"Train acc:\", acc_train)\n",
    "print(\"Test acc:\", acc_test)"
   ]
  },
  {
   "cell_type": "markdown",
   "metadata": {},
   "source": [
    "运行以下测试代码来查看你的分数（满足精确度要求时拿到全部分数）："
   ]
  },
  {
   "cell_type": "code",
   "execution_count": 54,
   "metadata": {},
   "outputs": [
    {
     "name": "stderr",
     "output_type": "stream",
     "text": [
      "/Users/houshuyang/Desktop/Machine Learning/MLLab2024/Lab-Tree/codes.py:76: FutureWarning: Series.__getitem__ treating keys as positions is deprecated. In a future version, integer keys will always be treated as labels (consistent with DataFrame behavior). To access a value by position, use `ser.iloc[pos]`\n",
      "  featureLength += len(series[j])\n",
      "/Users/houshuyang/Desktop/Machine Learning/MLLab2024/Lab-Tree/codes.py:81: FutureWarning: Series.__getitem__ treating keys as positions is deprecated. In a future version, integer keys will always be treated as labels (consistent with DataFrame behavior). To access a value by position, use `ser.iloc[pos]`\n",
      "  df = series[j]\n",
      "/Users/houshuyang/Desktop/Machine Learning/MLLab2024/Lab-Tree/codes.py:76: FutureWarning: Series.__getitem__ treating keys as positions is deprecated. In a future version, integer keys will always be treated as labels (consistent with DataFrame behavior). To access a value by position, use `ser.iloc[pos]`\n",
      "  featureLength += len(series[j])\n",
      "/Users/houshuyang/Desktop/Machine Learning/MLLab2024/Lab-Tree/codes.py:81: FutureWarning: Series.__getitem__ treating keys as positions is deprecated. In a future version, integer keys will always be treated as labels (consistent with DataFrame behavior). To access a value by position, use `ser.iloc[pos]`\n",
      "  df = series[j]\n",
      "/Users/houshuyang/Desktop/Machine Learning/MLLab2024/Lab-Tree/codes.py:76: FutureWarning: Series.__getitem__ treating keys as positions is deprecated. In a future version, integer keys will always be treated as labels (consistent with DataFrame behavior). To access a value by position, use `ser.iloc[pos]`\n",
      "  featureLength += len(series[j])\n",
      "/Users/houshuyang/Desktop/Machine Learning/MLLab2024/Lab-Tree/codes.py:81: FutureWarning: Series.__getitem__ treating keys as positions is deprecated. In a future version, integer keys will always be treated as labels (consistent with DataFrame behavior). To access a value by position, use `ser.iloc[pos]`\n",
      "  df = series[j]\n",
      "/Users/houshuyang/Desktop/Machine Learning/MLLab2024/Lab-Tree/codes.py:76: FutureWarning: Series.__getitem__ treating keys as positions is deprecated. In a future version, integer keys will always be treated as labels (consistent with DataFrame behavior). To access a value by position, use `ser.iloc[pos]`\n",
      "  featureLength += len(series[j])\n",
      "/Users/houshuyang/Desktop/Machine Learning/MLLab2024/Lab-Tree/codes.py:81: FutureWarning: Series.__getitem__ treating keys as positions is deprecated. In a future version, integer keys will always be treated as labels (consistent with DataFrame behavior). To access a value by position, use `ser.iloc[pos]`\n",
      "  df = series[j]\n",
      "/Users/houshuyang/Desktop/Machine Learning/MLLab2024/Lab-Tree/codes.py:76: FutureWarning: Series.__getitem__ treating keys as positions is deprecated. In a future version, integer keys will always be treated as labels (consistent with DataFrame behavior). To access a value by position, use `ser.iloc[pos]`\n",
      "  featureLength += len(series[j])\n",
      "/Users/houshuyang/Desktop/Machine Learning/MLLab2024/Lab-Tree/codes.py:81: FutureWarning: Series.__getitem__ treating keys as positions is deprecated. In a future version, integer keys will always be treated as labels (consistent with DataFrame behavior). To access a value by position, use `ser.iloc[pos]`\n",
      "  df = series[j]\n",
      "/Users/houshuyang/Desktop/Machine Learning/MLLab2024/Lab-Tree/codes.py:76: FutureWarning: Series.__getitem__ treating keys as positions is deprecated. In a future version, integer keys will always be treated as labels (consistent with DataFrame behavior). To access a value by position, use `ser.iloc[pos]`\n",
      "  featureLength += len(series[j])\n",
      "/Users/houshuyang/Desktop/Machine Learning/MLLab2024/Lab-Tree/codes.py:81: FutureWarning: Series.__getitem__ treating keys as positions is deprecated. In a future version, integer keys will always be treated as labels (consistent with DataFrame behavior). To access a value by position, use `ser.iloc[pos]`\n",
      "  df = series[j]\n",
      "/Users/houshuyang/Desktop/Machine Learning/MLLab2024/Lab-Tree/codes.py:76: FutureWarning: Series.__getitem__ treating keys as positions is deprecated. In a future version, integer keys will always be treated as labels (consistent with DataFrame behavior). To access a value by position, use `ser.iloc[pos]`\n",
      "  featureLength += len(series[j])\n",
      "/Users/houshuyang/Desktop/Machine Learning/MLLab2024/Lab-Tree/codes.py:81: FutureWarning: Series.__getitem__ treating keys as positions is deprecated. In a future version, integer keys will always be treated as labels (consistent with DataFrame behavior). To access a value by position, use `ser.iloc[pos]`\n",
      "  df = series[j]\n",
      "/Users/houshuyang/Desktop/Machine Learning/MLLab2024/Lab-Tree/codes.py:76: FutureWarning: Series.__getitem__ treating keys as positions is deprecated. In a future version, integer keys will always be treated as labels (consistent with DataFrame behavior). To access a value by position, use `ser.iloc[pos]`\n",
      "  featureLength += len(series[j])\n",
      "/Users/houshuyang/Desktop/Machine Learning/MLLab2024/Lab-Tree/codes.py:81: FutureWarning: Series.__getitem__ treating keys as positions is deprecated. In a future version, integer keys will always be treated as labels (consistent with DataFrame behavior). To access a value by position, use `ser.iloc[pos]`\n",
      "  df = series[j]\n",
      "/Users/houshuyang/Desktop/Machine Learning/MLLab2024/Lab-Tree/codes.py:76: FutureWarning: Series.__getitem__ treating keys as positions is deprecated. In a future version, integer keys will always be treated as labels (consistent with DataFrame behavior). To access a value by position, use `ser.iloc[pos]`\n",
      "  featureLength += len(series[j])\n",
      "/Users/houshuyang/Desktop/Machine Learning/MLLab2024/Lab-Tree/codes.py:81: FutureWarning: Series.__getitem__ treating keys as positions is deprecated. In a future version, integer keys will always be treated as labels (consistent with DataFrame behavior). To access a value by position, use `ser.iloc[pos]`\n",
      "  df = series[j]\n",
      "/Users/houshuyang/Desktop/Machine Learning/MLLab2024/Lab-Tree/codes.py:76: FutureWarning: Series.__getitem__ treating keys as positions is deprecated. In a future version, integer keys will always be treated as labels (consistent with DataFrame behavior). To access a value by position, use `ser.iloc[pos]`\n",
      "  featureLength += len(series[j])\n",
      "/Users/houshuyang/Desktop/Machine Learning/MLLab2024/Lab-Tree/codes.py:81: FutureWarning: Series.__getitem__ treating keys as positions is deprecated. In a future version, integer keys will always be treated as labels (consistent with DataFrame behavior). To access a value by position, use `ser.iloc[pos]`\n",
      "  df = series[j]\n",
      "/Users/houshuyang/Desktop/Machine Learning/MLLab2024/Lab-Tree/codes.py:76: FutureWarning: Series.__getitem__ treating keys as positions is deprecated. In a future version, integer keys will always be treated as labels (consistent with DataFrame behavior). To access a value by position, use `ser.iloc[pos]`\n",
      "  featureLength += len(series[j])\n",
      "/Users/houshuyang/Desktop/Machine Learning/MLLab2024/Lab-Tree/codes.py:81: FutureWarning: Series.__getitem__ treating keys as positions is deprecated. In a future version, integer keys will always be treated as labels (consistent with DataFrame behavior). To access a value by position, use `ser.iloc[pos]`\n",
      "  df = series[j]\n",
      "/Users/houshuyang/Desktop/Machine Learning/MLLab2024/Lab-Tree/codes.py:76: FutureWarning: Series.__getitem__ treating keys as positions is deprecated. In a future version, integer keys will always be treated as labels (consistent with DataFrame behavior). To access a value by position, use `ser.iloc[pos]`\n",
      "  featureLength += len(series[j])\n",
      "/Users/houshuyang/Desktop/Machine Learning/MLLab2024/Lab-Tree/codes.py:81: FutureWarning: Series.__getitem__ treating keys as positions is deprecated. In a future version, integer keys will always be treated as labels (consistent with DataFrame behavior). To access a value by position, use `ser.iloc[pos]`\n",
      "  df = series[j]\n",
      "/Users/houshuyang/Desktop/Machine Learning/MLLab2024/Lab-Tree/codes.py:76: FutureWarning: Series.__getitem__ treating keys as positions is deprecated. In a future version, integer keys will always be treated as labels (consistent with DataFrame behavior). To access a value by position, use `ser.iloc[pos]`\n",
      "  featureLength += len(series[j])\n",
      "/Users/houshuyang/Desktop/Machine Learning/MLLab2024/Lab-Tree/codes.py:81: FutureWarning: Series.__getitem__ treating keys as positions is deprecated. In a future version, integer keys will always be treated as labels (consistent with DataFrame behavior). To access a value by position, use `ser.iloc[pos]`\n",
      "  df = series[j]\n",
      "/Users/houshuyang/Desktop/Machine Learning/MLLab2024/Lab-Tree/codes.py:76: FutureWarning: Series.__getitem__ treating keys as positions is deprecated. In a future version, integer keys will always be treated as labels (consistent with DataFrame behavior). To access a value by position, use `ser.iloc[pos]`\n",
      "  featureLength += len(series[j])\n",
      "/Users/houshuyang/Desktop/Machine Learning/MLLab2024/Lab-Tree/codes.py:81: FutureWarning: Series.__getitem__ treating keys as positions is deprecated. In a future version, integer keys will always be treated as labels (consistent with DataFrame behavior). To access a value by position, use `ser.iloc[pos]`\n",
      "  df = series[j]\n",
      "/Users/houshuyang/Desktop/Machine Learning/MLLab2024/Lab-Tree/codes.py:76: FutureWarning: Series.__getitem__ treating keys as positions is deprecated. In a future version, integer keys will always be treated as labels (consistent with DataFrame behavior). To access a value by position, use `ser.iloc[pos]`\n",
      "  featureLength += len(series[j])\n",
      "/Users/houshuyang/Desktop/Machine Learning/MLLab2024/Lab-Tree/codes.py:81: FutureWarning: Series.__getitem__ treating keys as positions is deprecated. In a future version, integer keys will always be treated as labels (consistent with DataFrame behavior). To access a value by position, use `ser.iloc[pos]`\n",
      "  df = series[j]\n",
      "/Users/houshuyang/Desktop/Machine Learning/MLLab2024/Lab-Tree/codes.py:76: FutureWarning: Series.__getitem__ treating keys as positions is deprecated. In a future version, integer keys will always be treated as labels (consistent with DataFrame behavior). To access a value by position, use `ser.iloc[pos]`\n",
      "  featureLength += len(series[j])\n",
      "/Users/houshuyang/Desktop/Machine Learning/MLLab2024/Lab-Tree/codes.py:81: FutureWarning: Series.__getitem__ treating keys as positions is deprecated. In a future version, integer keys will always be treated as labels (consistent with DataFrame behavior). To access a value by position, use `ser.iloc[pos]`\n",
      "  df = series[j]\n",
      "/Users/houshuyang/Desktop/Machine Learning/MLLab2024/Lab-Tree/codes.py:76: FutureWarning: Series.__getitem__ treating keys as positions is deprecated. In a future version, integer keys will always be treated as labels (consistent with DataFrame behavior). To access a value by position, use `ser.iloc[pos]`\n",
      "  featureLength += len(series[j])\n",
      "/Users/houshuyang/Desktop/Machine Learning/MLLab2024/Lab-Tree/codes.py:81: FutureWarning: Series.__getitem__ treating keys as positions is deprecated. In a future version, integer keys will always be treated as labels (consistent with DataFrame behavior). To access a value by position, use `ser.iloc[pos]`\n",
      "  df = series[j]\n",
      "/Users/houshuyang/Desktop/Machine Learning/MLLab2024/Lab-Tree/codes.py:76: FutureWarning: Series.__getitem__ treating keys as positions is deprecated. In a future version, integer keys will always be treated as labels (consistent with DataFrame behavior). To access a value by position, use `ser.iloc[pos]`\n",
      "  featureLength += len(series[j])\n",
      "/Users/houshuyang/Desktop/Machine Learning/MLLab2024/Lab-Tree/codes.py:81: FutureWarning: Series.__getitem__ treating keys as positions is deprecated. In a future version, integer keys will always be treated as labels (consistent with DataFrame behavior). To access a value by position, use `ser.iloc[pos]`\n",
      "  df = series[j]\n",
      "/Users/houshuyang/Desktop/Machine Learning/MLLab2024/Lab-Tree/codes.py:76: FutureWarning: Series.__getitem__ treating keys as positions is deprecated. In a future version, integer keys will always be treated as labels (consistent with DataFrame behavior). To access a value by position, use `ser.iloc[pos]`\n",
      "  featureLength += len(series[j])\n",
      "/Users/houshuyang/Desktop/Machine Learning/MLLab2024/Lab-Tree/codes.py:81: FutureWarning: Series.__getitem__ treating keys as positions is deprecated. In a future version, integer keys will always be treated as labels (consistent with DataFrame behavior). To access a value by position, use `ser.iloc[pos]`\n",
      "  df = series[j]\n",
      "/Users/houshuyang/Desktop/Machine Learning/MLLab2024/Lab-Tree/codes.py:76: FutureWarning: Series.__getitem__ treating keys as positions is deprecated. In a future version, integer keys will always be treated as labels (consistent with DataFrame behavior). To access a value by position, use `ser.iloc[pos]`\n",
      "  featureLength += len(series[j])\n",
      "/Users/houshuyang/Desktop/Machine Learning/MLLab2024/Lab-Tree/codes.py:81: FutureWarning: Series.__getitem__ treating keys as positions is deprecated. In a future version, integer keys will always be treated as labels (consistent with DataFrame behavior). To access a value by position, use `ser.iloc[pos]`\n",
      "  df = series[j]\n",
      "/Users/houshuyang/Desktop/Machine Learning/MLLab2024/Lab-Tree/codes.py:76: FutureWarning: Series.__getitem__ treating keys as positions is deprecated. In a future version, integer keys will always be treated as labels (consistent with DataFrame behavior). To access a value by position, use `ser.iloc[pos]`\n",
      "  featureLength += len(series[j])\n",
      "/Users/houshuyang/Desktop/Machine Learning/MLLab2024/Lab-Tree/codes.py:81: FutureWarning: Series.__getitem__ treating keys as positions is deprecated. In a future version, integer keys will always be treated as labels (consistent with DataFrame behavior). To access a value by position, use `ser.iloc[pos]`\n",
      "  df = series[j]\n",
      "/Users/houshuyang/Desktop/Machine Learning/MLLab2024/Lab-Tree/codes.py:76: FutureWarning: Series.__getitem__ treating keys as positions is deprecated. In a future version, integer keys will always be treated as labels (consistent with DataFrame behavior). To access a value by position, use `ser.iloc[pos]`\n",
      "  featureLength += len(series[j])\n",
      "/Users/houshuyang/Desktop/Machine Learning/MLLab2024/Lab-Tree/codes.py:81: FutureWarning: Series.__getitem__ treating keys as positions is deprecated. In a future version, integer keys will always be treated as labels (consistent with DataFrame behavior). To access a value by position, use `ser.iloc[pos]`\n",
      "  df = series[j]\n",
      "/Users/houshuyang/Desktop/Machine Learning/MLLab2024/Lab-Tree/codes.py:76: FutureWarning: Series.__getitem__ treating keys as positions is deprecated. In a future version, integer keys will always be treated as labels (consistent with DataFrame behavior). To access a value by position, use `ser.iloc[pos]`\n",
      "  featureLength += len(series[j])\n",
      "/Users/houshuyang/Desktop/Machine Learning/MLLab2024/Lab-Tree/codes.py:81: FutureWarning: Series.__getitem__ treating keys as positions is deprecated. In a future version, integer keys will always be treated as labels (consistent with DataFrame behavior). To access a value by position, use `ser.iloc[pos]`\n",
      "  df = series[j]\n",
      "/Users/houshuyang/Desktop/Machine Learning/MLLab2024/Lab-Tree/codes.py:76: FutureWarning: Series.__getitem__ treating keys as positions is deprecated. In a future version, integer keys will always be treated as labels (consistent with DataFrame behavior). To access a value by position, use `ser.iloc[pos]`\n",
      "  featureLength += len(series[j])\n",
      "/Users/houshuyang/Desktop/Machine Learning/MLLab2024/Lab-Tree/codes.py:81: FutureWarning: Series.__getitem__ treating keys as positions is deprecated. In a future version, integer keys will always be treated as labels (consistent with DataFrame behavior). To access a value by position, use `ser.iloc[pos]`\n",
      "  df = series[j]\n",
      "/Users/houshuyang/Desktop/Machine Learning/MLLab2024/Lab-Tree/codes.py:76: FutureWarning: Series.__getitem__ treating keys as positions is deprecated. In a future version, integer keys will always be treated as labels (consistent with DataFrame behavior). To access a value by position, use `ser.iloc[pos]`\n",
      "  featureLength += len(series[j])\n",
      "/Users/houshuyang/Desktop/Machine Learning/MLLab2024/Lab-Tree/codes.py:81: FutureWarning: Series.__getitem__ treating keys as positions is deprecated. In a future version, integer keys will always be treated as labels (consistent with DataFrame behavior). To access a value by position, use `ser.iloc[pos]`\n",
      "  df = series[j]\n",
      "/Users/houshuyang/Desktop/Machine Learning/MLLab2024/Lab-Tree/codes.py:76: FutureWarning: Series.__getitem__ treating keys as positions is deprecated. In a future version, integer keys will always be treated as labels (consistent with DataFrame behavior). To access a value by position, use `ser.iloc[pos]`\n",
      "  featureLength += len(series[j])\n",
      "/Users/houshuyang/Desktop/Machine Learning/MLLab2024/Lab-Tree/codes.py:81: FutureWarning: Series.__getitem__ treating keys as positions is deprecated. In a future version, integer keys will always be treated as labels (consistent with DataFrame behavior). To access a value by position, use `ser.iloc[pos]`\n",
      "  df = series[j]\n",
      "/Users/houshuyang/Desktop/Machine Learning/MLLab2024/Lab-Tree/codes.py:76: FutureWarning: Series.__getitem__ treating keys as positions is deprecated. In a future version, integer keys will always be treated as labels (consistent with DataFrame behavior). To access a value by position, use `ser.iloc[pos]`\n",
      "  featureLength += len(series[j])\n",
      "/Users/houshuyang/Desktop/Machine Learning/MLLab2024/Lab-Tree/codes.py:81: FutureWarning: Series.__getitem__ treating keys as positions is deprecated. In a future version, integer keys will always be treated as labels (consistent with DataFrame behavior). To access a value by position, use `ser.iloc[pos]`\n",
      "  df = series[j]\n",
      "/Users/houshuyang/Desktop/Machine Learning/MLLab2024/Lab-Tree/codes.py:76: FutureWarning: Series.__getitem__ treating keys as positions is deprecated. In a future version, integer keys will always be treated as labels (consistent with DataFrame behavior). To access a value by position, use `ser.iloc[pos]`\n",
      "  featureLength += len(series[j])\n",
      "/Users/houshuyang/Desktop/Machine Learning/MLLab2024/Lab-Tree/codes.py:81: FutureWarning: Series.__getitem__ treating keys as positions is deprecated. In a future version, integer keys will always be treated as labels (consistent with DataFrame behavior). To access a value by position, use `ser.iloc[pos]`\n",
      "  df = series[j]\n",
      "/Users/houshuyang/Desktop/Machine Learning/MLLab2024/Lab-Tree/codes.py:76: FutureWarning: Series.__getitem__ treating keys as positions is deprecated. In a future version, integer keys will always be treated as labels (consistent with DataFrame behavior). To access a value by position, use `ser.iloc[pos]`\n",
      "  featureLength += len(series[j])\n",
      "/Users/houshuyang/Desktop/Machine Learning/MLLab2024/Lab-Tree/codes.py:81: FutureWarning: Series.__getitem__ treating keys as positions is deprecated. In a future version, integer keys will always be treated as labels (consistent with DataFrame behavior). To access a value by position, use `ser.iloc[pos]`\n",
      "  df = series[j]\n",
      "/Users/houshuyang/Desktop/Machine Learning/MLLab2024/Lab-Tree/codes.py:76: FutureWarning: Series.__getitem__ treating keys as positions is deprecated. In a future version, integer keys will always be treated as labels (consistent with DataFrame behavior). To access a value by position, use `ser.iloc[pos]`\n",
      "  featureLength += len(series[j])\n",
      "/Users/houshuyang/Desktop/Machine Learning/MLLab2024/Lab-Tree/codes.py:81: FutureWarning: Series.__getitem__ treating keys as positions is deprecated. In a future version, integer keys will always be treated as labels (consistent with DataFrame behavior). To access a value by position, use `ser.iloc[pos]`\n",
      "  df = series[j]\n",
      "/Users/houshuyang/Desktop/Machine Learning/MLLab2024/Lab-Tree/codes.py:76: FutureWarning: Series.__getitem__ treating keys as positions is deprecated. In a future version, integer keys will always be treated as labels (consistent with DataFrame behavior). To access a value by position, use `ser.iloc[pos]`\n",
      "  featureLength += len(series[j])\n",
      "/Users/houshuyang/Desktop/Machine Learning/MLLab2024/Lab-Tree/codes.py:81: FutureWarning: Series.__getitem__ treating keys as positions is deprecated. In a future version, integer keys will always be treated as labels (consistent with DataFrame behavior). To access a value by position, use `ser.iloc[pos]`\n",
      "  df = series[j]\n",
      "/Users/houshuyang/Desktop/Machine Learning/MLLab2024/Lab-Tree/codes.py:76: FutureWarning: Series.__getitem__ treating keys as positions is deprecated. In a future version, integer keys will always be treated as labels (consistent with DataFrame behavior). To access a value by position, use `ser.iloc[pos]`\n",
      "  featureLength += len(series[j])\n",
      "/Users/houshuyang/Desktop/Machine Learning/MLLab2024/Lab-Tree/codes.py:81: FutureWarning: Series.__getitem__ treating keys as positions is deprecated. In a future version, integer keys will always be treated as labels (consistent with DataFrame behavior). To access a value by position, use `ser.iloc[pos]`\n",
      "  df = series[j]\n",
      "/Users/houshuyang/Desktop/Machine Learning/MLLab2024/Lab-Tree/codes.py:76: FutureWarning: Series.__getitem__ treating keys as positions is deprecated. In a future version, integer keys will always be treated as labels (consistent with DataFrame behavior). To access a value by position, use `ser.iloc[pos]`\n",
      "  featureLength += len(series[j])\n",
      "/Users/houshuyang/Desktop/Machine Learning/MLLab2024/Lab-Tree/codes.py:81: FutureWarning: Series.__getitem__ treating keys as positions is deprecated. In a future version, integer keys will always be treated as labels (consistent with DataFrame behavior). To access a value by position, use `ser.iloc[pos]`\n",
      "  df = series[j]\n",
      "/Users/houshuyang/Desktop/Machine Learning/MLLab2024/Lab-Tree/codes.py:76: FutureWarning: Series.__getitem__ treating keys as positions is deprecated. In a future version, integer keys will always be treated as labels (consistent with DataFrame behavior). To access a value by position, use `ser.iloc[pos]`\n",
      "  featureLength += len(series[j])\n",
      "/Users/houshuyang/Desktop/Machine Learning/MLLab2024/Lab-Tree/codes.py:81: FutureWarning: Series.__getitem__ treating keys as positions is deprecated. In a future version, integer keys will always be treated as labels (consistent with DataFrame behavior). To access a value by position, use `ser.iloc[pos]`\n",
      "  df = series[j]\n",
      "/Users/houshuyang/Desktop/Machine Learning/MLLab2024/Lab-Tree/codes.py:76: FutureWarning: Series.__getitem__ treating keys as positions is deprecated. In a future version, integer keys will always be treated as labels (consistent with DataFrame behavior). To access a value by position, use `ser.iloc[pos]`\n",
      "  featureLength += len(series[j])\n",
      "/Users/houshuyang/Desktop/Machine Learning/MLLab2024/Lab-Tree/codes.py:81: FutureWarning: Series.__getitem__ treating keys as positions is deprecated. In a future version, integer keys will always be treated as labels (consistent with DataFrame behavior). To access a value by position, use `ser.iloc[pos]`\n",
      "  df = series[j]\n",
      "/Users/houshuyang/Desktop/Machine Learning/MLLab2024/Lab-Tree/codes.py:76: FutureWarning: Series.__getitem__ treating keys as positions is deprecated. In a future version, integer keys will always be treated as labels (consistent with DataFrame behavior). To access a value by position, use `ser.iloc[pos]`\n",
      "  featureLength += len(series[j])\n",
      "/Users/houshuyang/Desktop/Machine Learning/MLLab2024/Lab-Tree/codes.py:81: FutureWarning: Series.__getitem__ treating keys as positions is deprecated. In a future version, integer keys will always be treated as labels (consistent with DataFrame behavior). To access a value by position, use `ser.iloc[pos]`\n",
      "  df = series[j]\n",
      "/Users/houshuyang/Desktop/Machine Learning/MLLab2024/Lab-Tree/codes.py:76: FutureWarning: Series.__getitem__ treating keys as positions is deprecated. In a future version, integer keys will always be treated as labels (consistent with DataFrame behavior). To access a value by position, use `ser.iloc[pos]`\n",
      "  featureLength += len(series[j])\n",
      "/Users/houshuyang/Desktop/Machine Learning/MLLab2024/Lab-Tree/codes.py:81: FutureWarning: Series.__getitem__ treating keys as positions is deprecated. In a future version, integer keys will always be treated as labels (consistent with DataFrame behavior). To access a value by position, use `ser.iloc[pos]`\n",
      "  df = series[j]\n",
      "/Users/houshuyang/Desktop/Machine Learning/MLLab2024/Lab-Tree/utils.py:126: FutureWarning: Series.__getitem__ treating keys as positions is deprecated. In a future version, integer keys will always be treated as labels (consistent with DataFrame behavior). To access a value by position, use `ser.iloc[pos]`\n",
      "  if classify(tree, sample) == sample[-1]:\n",
      ".\n",
      "----------------------------------------------------------------------\n",
      "Ran 1 test in 0.045s\n",
      "\n",
      "OK\n"
     ]
    },
    {
     "name": "stdout",
     "output_type": "stream",
     "text": [
      "Final Score of Tree: 3.333333/3.33\n"
     ]
    }
   ],
   "source": [
    "run_tree_tests()"
   ]
  },
  {
   "cell_type": "markdown",
   "metadata": {},
   "source": [
    "接下来是一个小测试，旨在看看您是否适合攻读博士学位。请注意！！！这仅仅是一个基于假设的模型，它无法准确的预测实际情形。请您将其当做一个轻松的尝试，只供娱乐，而无法取代对自身状况的深入思考和慎重决策。\n"
   ]
  },
  {
   "cell_type": "code",
   "execution_count": 45,
   "metadata": {},
   "outputs": [
    {
     "name": "stdout",
     "output_type": "stream",
     "text": [
      "Unfortunately, according to the model, you are unlikely to gain admission for Ph.D.\n"
     ]
    }
   ],
   "source": [
    "# You can input your profile to predict your phd admission result\n",
    "# input your profile about \"I love doing research,I absolutely want to be a college professor,Money is important to me,I can deal with extreme stress and competition,I am OK being with judged all the time,I need a clear target and immediate feedback,I work 9-5 Mon-Fri\"\n",
    "loving = input('Do you love research? (1/0)')\n",
    "professor = input('Do you want to be a professor? (1/0)')\n",
    "money = input('Is money important to you? (1/0)')\n",
    "stress = input('Can you deal with stress? (1/0)')\n",
    "judge = input('Can you deal with being judged all the time? (1/0)')\n",
    "feedback = input('Do you need a clear target and immediate feedback? (1/0)')\n",
    "work = input('Do you work 9-5 Mon-Fri? (1/0)')\n",
    "\n",
    "# Combine the user's responses into a single data frame\n",
    "test_data = pd.Series({\n",
    "    'I love doing research': int(loving),\n",
    "    'I absolutely want to be a college professor': int(professor),\n",
    "    'Money is important to me': int(money),\n",
    "    'I can deal with extreme stress and competition': int(stress),\n",
    "    'I am OK being with judged all the time': int(judge),\n",
    "    'I need a clear target and immediate feedback': int(feedback),\n",
    "    'I work 9-5 Mon-Fri': int(work)\n",
    "})\n",
    "\n",
    "# Use the decision tree to predict the result \n",
    "result = classify(Tree, test_data)\n",
    "\n",
    "# Print the result to the user\n",
    "if result == 1:\n",
    "    print(\"Congratulations! According to the model, you are likely to gain admission for Ph.D.\")\n",
    "elif result == 0: \n",
    "    print(\"Unfortunately, according to the model, you are unlikely to gain admission for Ph.D.\")\n"
   ]
  },
  {
   "cell_type": "markdown",
   "metadata": {},
   "source": [
    "QAQ I'm unlikely to gain admission for ph.D QAQ"
   ]
  }
 ],
 "metadata": {
  "kernelspec": {
   "display_name": "uqbio2024_py310",
   "language": "python",
   "name": "python3"
  },
  "language_info": {
   "codemirror_mode": {
    "name": "ipython",
    "version": 3
   },
   "file_extension": ".py",
   "mimetype": "text/x-python",
   "name": "python",
   "nbconvert_exporter": "python",
   "pygments_lexer": "ipython3",
   "version": "3.10.14"
  }
 },
 "nbformat": 4,
 "nbformat_minor": 2
}
